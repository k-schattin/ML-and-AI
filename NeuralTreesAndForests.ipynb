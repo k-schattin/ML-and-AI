{
  "nbformat": 4,
  "nbformat_minor": 0,
  "metadata": {
    "colab": {
      "name": "NeuralTreesAndForests.ipynb",
      "provenance": [],
      "collapsed_sections": [],
      "toc_visible": true
    },
    "kernelspec": {
      "name": "python3",
      "display_name": "Python 3"
    },
    "accelerator": "GPU"
  },
  "cells": [
    {
      "cell_type": "markdown",
      "metadata": {
        "id": "saRk7OWDGjIl"
      },
      "source": [
        "# Neural Decision Trees and Forests for Predictive Lead Scoring\n",
        "\n",
        "The contents of this notebook depict an application of neural decision trees and forests to a sales dataset for a mortgage lending company. The goal in using this dataset is to predict whether or not the sales lead will submit an application for a mortgage based on the following 10 features:\n",
        "\n",
        "\n",
        "1.   Timestamp at which the lead was generated\n",
        "2.   Whether the potential customer was looking to refinance a mortgage or purchase a new home\n",
        "3.   Cost of the lead\n",
        "4.   State in which the lead was generated\n",
        "5.   Loan amount desired\n",
        "6.   Loan to value amount\n",
        "7.   Whether there would be any cash out involved  \n",
        "8.   What the amount of any potential cash out would be\n",
        "9.   The customer's self-reported credit score\n",
        "10.  The customer's estimated credit score\n",
        "\n",
        "Once those predictions are made, a more targeted sales strategy can be taken by the company. By only targeting those leads that have a greater than 50% probability of submitting an application, the overall cost for lead acquisition should be reduced while the application rate increases. "
      ]
    },
    {
      "cell_type": "markdown",
      "metadata": {
        "id": "a1cmuNyeGq2z"
      },
      "source": [
        "# Packages\r\n",
        "\r\n",
        "---\r\n",
        "\r\n",
        "---\r\n",
        "\r\n",
        "\r\n",
        "\r\n",
        "\r\n",
        "\r\n",
        "\r\n"
      ]
    },
    {
      "cell_type": "code",
      "metadata": {
        "id": "bbDAe74AGrkL",
        "colab": {
          "base_uri": "https://localhost:8080/"
        },
        "outputId": "b4cde797-e3ea-4190-d3fc-e2fc27ed453c"
      },
      "source": [
        "import math\n",
        "import numpy as np\n",
        "import pandas as pd\n",
        "import seaborn as sns\n",
        "import tensorflow as tf\n",
        "\n",
        "import matplotlib.pyplot as plt\n",
        "\n",
        "from sklearn.model_selection import train_test_split\n",
        "from sklearn.metrics import accuracy_score, roc_auc_score, classification_report\n",
        "\n",
        "from imblearn.under_sampling import RandomUnderSampler\n",
        "from imblearn.over_sampling import RandomOverSampler\n",
        "\n",
        "from collections import Counter\n",
        "\n",
        "from warnings import filterwarnings\n",
        "filterwarnings('ignore')"
      ],
      "execution_count": null,
      "outputs": [
        {
          "output_type": "stream",
          "text": [
            "/usr/local/lib/python3.7/dist-packages/sklearn/externals/six.py:31: FutureWarning: The module is deprecated in version 0.21 and will be removed in version 0.23 since we've dropped support for Python 2.7. Please rely on the official version of six (https://pypi.org/project/six/).\n",
            "  \"(https://pypi.org/project/six/).\", FutureWarning)\n",
            "/usr/local/lib/python3.7/dist-packages/sklearn/utils/deprecation.py:144: FutureWarning: The sklearn.neighbors.base module is  deprecated in version 0.22 and will be removed in version 0.24. The corresponding classes / functions should instead be imported from sklearn.neighbors. Anything that cannot be imported from sklearn.neighbors is now part of the private API.\n",
            "  warnings.warn(message, FutureWarning)\n"
          ],
          "name": "stderr"
        }
      ]
    },
    {
      "cell_type": "markdown",
      "metadata": {
        "id": "3oifrK5hNaNJ"
      },
      "source": [
        "# Data Loading and Preprocessing\r\n",
        "\r\n",
        "---\r\n",
        "\r\n",
        "---\r\n",
        "\r\n",
        "\r\n",
        "\r\n"
      ]
    },
    {
      "cell_type": "markdown",
      "metadata": {
        "id": "5ppyhCXRNc2Z"
      },
      "source": [
        "## Functions"
      ]
    },
    {
      "cell_type": "code",
      "metadata": {
        "id": "IifcMp1rNf4I"
      },
      "source": [
        "# since not all states are present in the dataset, the states are instead mapped to a specific region within the country\n",
        "def region(state):\n",
        "  if state in western_states:\n",
        "    return 'western'\n",
        "  elif state in midwestern_states:\n",
        "    return 'midwestern'\n",
        "  elif state in southern_states:\n",
        "    return 'southern'\n",
        "  else: return 'northeastern'"
      ],
      "execution_count": null,
      "outputs": []
    },
    {
      "cell_type": "markdown",
      "metadata": {
        "id": "NZlFqBU2NiTZ"
      },
      "source": [
        "## Loading"
      ]
    },
    {
      "cell_type": "code",
      "metadata": {
        "colab": {
          "base_uri": "https://localhost:8080/",
          "height": 204
        },
        "id": "ipL3tpKZGbv6",
        "outputId": "96e9f0ba-ce2f-4597-fbd3-b4d9f2b310be"
      },
      "source": [
        "data = pd.read_excel('Better_Case_Raw_Data_(1).xlsx')\n",
        "data['Year'] = data.LEAD_CREATED_TIMESTAMP.dt.year\n",
        "data['Month'] = data.LEAD_CREATED_TIMESTAMP.dt.month\n",
        "data['Date'] = data.LEAD_CREATED_TIMESTAMP.dt.day\n",
        "data['Time'] = data.LEAD_CREATED_TIMESTAMP.dt.time\n",
        "data.columns = [col.lower() for col in data.columns]\n",
        "data.drop(['lead_created_timestamp', 'user_id','lead','account',\n",
        "           'fund','lock','denied','year'],axis = 1, inplace = True)\n",
        "data.cashout_amt = data.cashout_amt.fillna(0)\n",
        "data.head()"
      ],
      "execution_count": null,
      "outputs": [
        {
          "output_type": "execute_result",
          "data": {
            "text/html": [
              "<div>\n",
              "<style scoped>\n",
              "    .dataframe tbody tr th:only-of-type {\n",
              "        vertical-align: middle;\n",
              "    }\n",
              "\n",
              "    .dataframe tbody tr th {\n",
              "        vertical-align: top;\n",
              "    }\n",
              "\n",
              "    .dataframe thead th {\n",
              "        text-align: right;\n",
              "    }\n",
              "</style>\n",
              "<table border=\"1\" class=\"dataframe\">\n",
              "  <thead>\n",
              "    <tr style=\"text-align: right;\">\n",
              "      <th></th>\n",
              "      <th>mortgage_type</th>\n",
              "      <th>cost</th>\n",
              "      <th>state</th>\n",
              "      <th>loan_amt</th>\n",
              "      <th>loan_to_value</th>\n",
              "      <th>is_cashout</th>\n",
              "      <th>cashout_amt</th>\n",
              "      <th>self_reported_credit</th>\n",
              "      <th>est_credit_score</th>\n",
              "      <th>application</th>\n",
              "      <th>month</th>\n",
              "      <th>date</th>\n",
              "      <th>time</th>\n",
              "    </tr>\n",
              "  </thead>\n",
              "  <tbody>\n",
              "    <tr>\n",
              "      <th>0</th>\n",
              "      <td>purchase</td>\n",
              "      <td>40</td>\n",
              "      <td>NJ</td>\n",
              "      <td>157500.0</td>\n",
              "      <td>70.0</td>\n",
              "      <td>0</td>\n",
              "      <td>0.0</td>\n",
              "      <td>EXCELLENT</td>\n",
              "      <td>759</td>\n",
              "      <td>0</td>\n",
              "      <td>1</td>\n",
              "      <td>11</td>\n",
              "      <td>15:33:54.464000</td>\n",
              "    </tr>\n",
              "    <tr>\n",
              "      <th>1</th>\n",
              "      <td>purchase</td>\n",
              "      <td>41</td>\n",
              "      <td>NC</td>\n",
              "      <td>202500.0</td>\n",
              "      <td>90.0</td>\n",
              "      <td>0</td>\n",
              "      <td>0.0</td>\n",
              "      <td>EXCELLENT</td>\n",
              "      <td>729</td>\n",
              "      <td>0</td>\n",
              "      <td>1</td>\n",
              "      <td>11</td>\n",
              "      <td>15:34:01.316000</td>\n",
              "    </tr>\n",
              "    <tr>\n",
              "      <th>2</th>\n",
              "      <td>purchase</td>\n",
              "      <td>46</td>\n",
              "      <td>CO</td>\n",
              "      <td>427500.0</td>\n",
              "      <td>90.0</td>\n",
              "      <td>0</td>\n",
              "      <td>0.0</td>\n",
              "      <td>EXCELLENT</td>\n",
              "      <td>699</td>\n",
              "      <td>0</td>\n",
              "      <td>1</td>\n",
              "      <td>11</td>\n",
              "      <td>15:35:56.270000</td>\n",
              "    </tr>\n",
              "    <tr>\n",
              "      <th>3</th>\n",
              "      <td>purchase</td>\n",
              "      <td>40</td>\n",
              "      <td>NJ</td>\n",
              "      <td>202500.0</td>\n",
              "      <td>90.0</td>\n",
              "      <td>0</td>\n",
              "      <td>0.0</td>\n",
              "      <td>EXCELLENT</td>\n",
              "      <td>769</td>\n",
              "      <td>0</td>\n",
              "      <td>1</td>\n",
              "      <td>11</td>\n",
              "      <td>15:41:03.710000</td>\n",
              "    </tr>\n",
              "    <tr>\n",
              "      <th>4</th>\n",
              "      <td>purchase</td>\n",
              "      <td>49</td>\n",
              "      <td>TX</td>\n",
              "      <td>180500.0</td>\n",
              "      <td>95.0</td>\n",
              "      <td>0</td>\n",
              "      <td>0.0</td>\n",
              "      <td>EXCELLENT</td>\n",
              "      <td>739</td>\n",
              "      <td>0</td>\n",
              "      <td>1</td>\n",
              "      <td>11</td>\n",
              "      <td>15:41:23.959000</td>\n",
              "    </tr>\n",
              "  </tbody>\n",
              "</table>\n",
              "</div>"
            ],
            "text/plain": [
              "  mortgage_type  cost state  ...  month  date             time\n",
              "0      purchase    40    NJ  ...      1    11  15:33:54.464000\n",
              "1      purchase    41    NC  ...      1    11  15:34:01.316000\n",
              "2      purchase    46    CO  ...      1    11  15:35:56.270000\n",
              "3      purchase    40    NJ  ...      1    11  15:41:03.710000\n",
              "4      purchase    49    TX  ...      1    11  15:41:23.959000\n",
              "\n",
              "[5 rows x 13 columns]"
            ]
          },
          "metadata": {
            "tags": []
          },
          "execution_count": 3
        }
      ]
    },
    {
      "cell_type": "markdown",
      "metadata": {
        "id": "Pfo5pAMbNktP"
      },
      "source": [
        "## Preprocessing"
      ]
    },
    {
      "cell_type": "code",
      "metadata": {
        "colab": {
          "base_uri": "https://localhost:8080/",
          "height": 224
        },
        "id": "LJKJvAf3Gpvs",
        "outputId": "478de0e5-077b-4ec3-c216-18df4bb6f754"
      },
      "source": [
        "western_states = ['AK','AZ','CA','CO',\n",
        "                  'HI','ID','MT','NV',\n",
        "                  'NM','OR','UT','WA',\n",
        "                  'WY']\n",
        "\n",
        "midwestern_states = ['IL','IN','IA','KS',\n",
        "                     'MI','MO','MN','NE',\n",
        "                     'ND','OH','SD','WI']\n",
        "\n",
        "southern_states = ['AL','AR','DC','DE',\n",
        "                   'FL','GA','KY','LA',\n",
        "                   'MD','MS','NC','OK',\n",
        "                   'SC','TN','TX','VA',\n",
        "                   'WV']\n",
        "\n",
        "northeastern_states = ['CT','MA','ME','NH',\n",
        "                       'NJ','NY','RI','PA',\n",
        "                       'VT']\n",
        "\n",
        "# mapping to state to one of four regions\n",
        "data['region'] = data.state.apply(region)\n",
        "\n",
        "# breaking timestamp down into hour and whether or not the application was submitted before noon\n",
        "data['hour'] = data.time.apply(lambda x: x.hour)\n",
        "data['am'] = data.hour.apply(lambda x: 'yes' if x < 12 else 'no')\n",
        "\n",
        "# changing binary encoded variables to text\n",
        "data['is_cashout'] = data.is_cashout.apply(lambda x: 'yes' if x==1 else 'no')\n",
        "data['application'] = data.application.apply(lambda x: 'yes' if x==1 else 'no')\n",
        "\n",
        "# sine and cosine transformations of time variables\n",
        "data['hour_sin'] = np.sin(2 * np.pi * data.hour/23.)\n",
        "data['hour_cos'] = np.cos(2 * np.pi * data.hour/23.)\n",
        "data['month_sin'] = np.sin(2 * np.pi * data.month/12.)\n",
        "data['month_cos'] = np.cos(2 * np.pi * data.month/12.)\n",
        "data['date_sin'] = np.sin(2 * np.pi * data.date/31.)\n",
        "data['date_cos'] = np.cos(2 * np.pi * data.date/31.)\n",
        "\n",
        "# creating a handful of new features\n",
        "data['loan_to_credit'] = data.loan_amt / data.est_credit_score\n",
        "data['cost_to_credit'] = data.cost / data.est_credit_score\n",
        "data['loan_to_cost'] = data.loan_amt / data.cost\n",
        "data['ltv_credit_score'] = data.loan_to_value * data.est_credit_score\n",
        "\n",
        "# removing columns that are no longer needed\n",
        "data.drop(['month','date','time','hour'], axis = 1, inplace = True)\n",
        "data.head()"
      ],
      "execution_count": null,
      "outputs": [
        {
          "output_type": "execute_result",
          "data": {
            "text/html": [
              "<div>\n",
              "<style scoped>\n",
              "    .dataframe tbody tr th:only-of-type {\n",
              "        vertical-align: middle;\n",
              "    }\n",
              "\n",
              "    .dataframe tbody tr th {\n",
              "        vertical-align: top;\n",
              "    }\n",
              "\n",
              "    .dataframe thead th {\n",
              "        text-align: right;\n",
              "    }\n",
              "</style>\n",
              "<table border=\"1\" class=\"dataframe\">\n",
              "  <thead>\n",
              "    <tr style=\"text-align: right;\">\n",
              "      <th></th>\n",
              "      <th>mortgage_type</th>\n",
              "      <th>cost</th>\n",
              "      <th>state</th>\n",
              "      <th>loan_amt</th>\n",
              "      <th>loan_to_value</th>\n",
              "      <th>is_cashout</th>\n",
              "      <th>cashout_amt</th>\n",
              "      <th>self_reported_credit</th>\n",
              "      <th>est_credit_score</th>\n",
              "      <th>application</th>\n",
              "      <th>region</th>\n",
              "      <th>am</th>\n",
              "      <th>hour_sin</th>\n",
              "      <th>hour_cos</th>\n",
              "      <th>month_sin</th>\n",
              "      <th>month_cos</th>\n",
              "      <th>date_sin</th>\n",
              "      <th>date_cos</th>\n",
              "      <th>loan_to_credit</th>\n",
              "      <th>cost_to_credit</th>\n",
              "      <th>loan_to_cost</th>\n",
              "      <th>ltv_credit_score</th>\n",
              "    </tr>\n",
              "  </thead>\n",
              "  <tbody>\n",
              "    <tr>\n",
              "      <th>0</th>\n",
              "      <td>purchase</td>\n",
              "      <td>40</td>\n",
              "      <td>NJ</td>\n",
              "      <td>157500.0</td>\n",
              "      <td>70.0</td>\n",
              "      <td>no</td>\n",
              "      <td>0.0</td>\n",
              "      <td>EXCELLENT</td>\n",
              "      <td>759</td>\n",
              "      <td>no</td>\n",
              "      <td>northeastern</td>\n",
              "      <td>no</td>\n",
              "      <td>-0.81697</td>\n",
              "      <td>-0.57668</td>\n",
              "      <td>0.5</td>\n",
              "      <td>0.866025</td>\n",
              "      <td>0.790776</td>\n",
              "      <td>-0.612106</td>\n",
              "      <td>207.509881</td>\n",
              "      <td>0.052701</td>\n",
              "      <td>3937.500000</td>\n",
              "      <td>53130.0</td>\n",
              "    </tr>\n",
              "    <tr>\n",
              "      <th>1</th>\n",
              "      <td>purchase</td>\n",
              "      <td>41</td>\n",
              "      <td>NC</td>\n",
              "      <td>202500.0</td>\n",
              "      <td>90.0</td>\n",
              "      <td>no</td>\n",
              "      <td>0.0</td>\n",
              "      <td>EXCELLENT</td>\n",
              "      <td>729</td>\n",
              "      <td>no</td>\n",
              "      <td>southern</td>\n",
              "      <td>no</td>\n",
              "      <td>-0.81697</td>\n",
              "      <td>-0.57668</td>\n",
              "      <td>0.5</td>\n",
              "      <td>0.866025</td>\n",
              "      <td>0.790776</td>\n",
              "      <td>-0.612106</td>\n",
              "      <td>277.777778</td>\n",
              "      <td>0.056241</td>\n",
              "      <td>4939.024390</td>\n",
              "      <td>65610.0</td>\n",
              "    </tr>\n",
              "    <tr>\n",
              "      <th>2</th>\n",
              "      <td>purchase</td>\n",
              "      <td>46</td>\n",
              "      <td>CO</td>\n",
              "      <td>427500.0</td>\n",
              "      <td>90.0</td>\n",
              "      <td>no</td>\n",
              "      <td>0.0</td>\n",
              "      <td>EXCELLENT</td>\n",
              "      <td>699</td>\n",
              "      <td>no</td>\n",
              "      <td>western</td>\n",
              "      <td>no</td>\n",
              "      <td>-0.81697</td>\n",
              "      <td>-0.57668</td>\n",
              "      <td>0.5</td>\n",
              "      <td>0.866025</td>\n",
              "      <td>0.790776</td>\n",
              "      <td>-0.612106</td>\n",
              "      <td>611.587983</td>\n",
              "      <td>0.065808</td>\n",
              "      <td>9293.478261</td>\n",
              "      <td>62910.0</td>\n",
              "    </tr>\n",
              "    <tr>\n",
              "      <th>3</th>\n",
              "      <td>purchase</td>\n",
              "      <td>40</td>\n",
              "      <td>NJ</td>\n",
              "      <td>202500.0</td>\n",
              "      <td>90.0</td>\n",
              "      <td>no</td>\n",
              "      <td>0.0</td>\n",
              "      <td>EXCELLENT</td>\n",
              "      <td>769</td>\n",
              "      <td>no</td>\n",
              "      <td>northeastern</td>\n",
              "      <td>no</td>\n",
              "      <td>-0.81697</td>\n",
              "      <td>-0.57668</td>\n",
              "      <td>0.5</td>\n",
              "      <td>0.866025</td>\n",
              "      <td>0.790776</td>\n",
              "      <td>-0.612106</td>\n",
              "      <td>263.328999</td>\n",
              "      <td>0.052016</td>\n",
              "      <td>5062.500000</td>\n",
              "      <td>69210.0</td>\n",
              "    </tr>\n",
              "    <tr>\n",
              "      <th>4</th>\n",
              "      <td>purchase</td>\n",
              "      <td>49</td>\n",
              "      <td>TX</td>\n",
              "      <td>180500.0</td>\n",
              "      <td>95.0</td>\n",
              "      <td>no</td>\n",
              "      <td>0.0</td>\n",
              "      <td>EXCELLENT</td>\n",
              "      <td>739</td>\n",
              "      <td>no</td>\n",
              "      <td>southern</td>\n",
              "      <td>no</td>\n",
              "      <td>-0.81697</td>\n",
              "      <td>-0.57668</td>\n",
              "      <td>0.5</td>\n",
              "      <td>0.866025</td>\n",
              "      <td>0.790776</td>\n",
              "      <td>-0.612106</td>\n",
              "      <td>244.248985</td>\n",
              "      <td>0.066306</td>\n",
              "      <td>3683.673469</td>\n",
              "      <td>70205.0</td>\n",
              "    </tr>\n",
              "  </tbody>\n",
              "</table>\n",
              "</div>"
            ],
            "text/plain": [
              "  mortgage_type  cost state  ...  cost_to_credit  loan_to_cost ltv_credit_score\n",
              "0      purchase    40    NJ  ...        0.052701   3937.500000          53130.0\n",
              "1      purchase    41    NC  ...        0.056241   4939.024390          65610.0\n",
              "2      purchase    46    CO  ...        0.065808   9293.478261          62910.0\n",
              "3      purchase    40    NJ  ...        0.052016   5062.500000          69210.0\n",
              "4      purchase    49    TX  ...        0.066306   3683.673469          70205.0\n",
              "\n",
              "[5 rows x 22 columns]"
            ]
          },
          "metadata": {
            "tags": []
          },
          "execution_count": 4
        }
      ]
    },
    {
      "cell_type": "markdown",
      "metadata": {
        "id": "jQ4B8A8-U7nz"
      },
      "source": [
        "To better capture the cyclic nature of the *Month*, *Date*, and *Hour* variables in this dataset, sine and cosine transformations are applied to them. The plots below demonstrate the results of these transformations."
      ]
    },
    {
      "cell_type": "code",
      "metadata": {
        "colab": {
          "base_uri": "https://localhost:8080/",
          "height": 1000
        },
        "id": "Pr8ONvi-IcPR",
        "outputId": "4e944096-f46d-41a5-a3ba-c5b54c737c13"
      },
      "source": [
        "fig, axs = plt.subplots(3,1,figsize=(10,24))\n",
        "\n",
        "_ = axs[0].scatter(data.hour_cos, data.hour_sin)\n",
        "_ = axs[0].set_title('Sine & Cosine Transformation of Hour Variable')\n",
        "_ = axs[0].set_xlabel('Cosine')\n",
        "_ = axs[0].set_ylabel('Sine')\n",
        "\n",
        "_ = axs[1].scatter(data.month_cos, data.month_sin)\n",
        "_ = axs[1].set_title('Sine & Cosine Transformation of Month Variable')\n",
        "_ = axs[1].set_xlabel('Cosine')\n",
        "_ = axs[1].set_ylabel('Sine')\n",
        "\n",
        "_ = axs[2].scatter(data.date_cos, data.date_sin)\n",
        "_ = axs[2].set_title('Sine & Cosine Transformation of Day Variable')\n",
        "_ = axs[2].set_xlabel('Cosine')\n",
        "_ = axs[2].set_ylabel('Sine')"
      ],
      "execution_count": null,
      "outputs": [
        {
          "output_type": "display_data",
          "data": {
            "image/png": "[encoded data removed]",
            "text/plain": [
              "<Figure size 720x1728 with 3 Axes>"
            ]
          },
          "metadata": {
            "tags": [],
            "needs_background": "light"
          }
        }
      ]
    },
    {
      "cell_type": "code",
      "metadata": {
        "colab": {
          "base_uri": "https://localhost:8080/"
        },
        "id": "GfRNoGY7UuY1",
        "outputId": "d30d625a-0f06-4a0a-cca2-d08636659a0e"
      },
      "source": [
        "no_application, application = data.application.value_counts(normalize=True)[0], data.application.value_counts(normalize=True)[1]\n",
        "no_application *= 100\n",
        "application *= 100\n",
        "print(f'Percentage of Leads that Submitted an Application      : {round(application,2)}')\n",
        "print(f'Percentage of Leads that Did Not Submit an Application : {round(no_application,2)}')"
      ],
      "execution_count": null,
      "outputs": [
        {
          "output_type": "stream",
          "text": [
            "Percentage of Leads that Submitted an Application      : 3.82\n",
            "Percentage of Leads that Did Not Submit an Application : 96.18\n"
          ],
          "name": "stdout"
        }
      ]
    },
    {
      "cell_type": "markdown",
      "metadata": {
        "id": "SbeVkU3VcN6n"
      },
      "source": [
        "The target variable in this dataset - whether or not an application for a mortgage was submitted - is highly imbalanced, with about 96% of the sales leads in the dataset failing to submit a mortgage application and only about 4% of sales leads actually submitting an application. In the modeling portion of the notebook, a couple of different approaches to handling this class imbalance will be tested."
      ]
    },
    {
      "cell_type": "markdown",
      "metadata": {
        "id": "pQydYSn8cxmI"
      },
      "source": [
        "Lists of numeric and categorical features are created here. For the categorical features, a vocabulary for each feature's categories is created. This vocabulary will be put to use when feeding the training dataset into the neural decision tree or neural decision forest at training time. "
      ]
    },
    {
      "cell_type": "code",
      "metadata": {
        "id": "J0mFLxE6_Adg"
      },
      "source": [
        "FEATURE_NAMES = [\r\n",
        "    \"cost\",\r\n",
        "    \"loan_amt\",\r\n",
        "    \"loan_to_value\",\r\n",
        "    \"cashout_amt\",\r\n",
        "    \"est_credit_score\",\r\n",
        "    \"hour_sin\",\r\n",
        "    \"hour_cos\",\r\n",
        "    \"loan_to_credit\",\r\n",
        "    \"cost_to_credit\",\r\n",
        "    \"loan_to_cost\",\r\n",
        "    \"ltv_credit_score\",\r\n",
        "    \"month_sin\",\r\n",
        "    \"month_cos\",\r\n",
        "    \"date_sin\",\r\n",
        "    \"date_cos\",\r\n",
        "    \"mortgage_type\",\r\n",
        "    \"state\",\r\n",
        "    \"self_reported_credit\",\r\n",
        "    \"region\",\r\n",
        "    \"am\",\r\n",
        "    \"is_cashout\",          \r\n",
        "]\r\n",
        "\r\n",
        "\r\n",
        "CSV_HEADER = FEATURE_NAMES + ['application']\r\n",
        "\r\n",
        "NUM_FEATURE_NAMES = [\r\n",
        "    \"cost\",\r\n",
        "    \"loan_amt\",\r\n",
        "    \"loan_to_value\",\r\n",
        "    \"cashout_amt\",\r\n",
        "    \"est_credit_score\",\r\n",
        "    \"hour_sin\",\r\n",
        "    \"hour_cos\",\r\n",
        "    \"loan_to_credit\",\r\n",
        "    \"cost_to_credit\",\r\n",
        "    \"loan_to_cost\",\r\n",
        "    \"ltv_credit_score\",\r\n",
        "    \"month_sin\",\r\n",
        "    \"month_cos\",\r\n",
        "    \"date_sin\",\r\n",
        "    \"date_cos\",\r\n",
        "]\r\n",
        "\r\n",
        "\r\n",
        "CAT_FEATURES_WITH_VOCAB = {\r\n",
        "    \"mortgage_type\": sorted(list(data[\"mortgage_type\"].unique())),\r\n",
        "    \"state\": sorted(list(data[\"state\"].unique())),\r\n",
        "    \"self_reported_credit\": sorted(list(data[\"self_reported_credit\"].unique())),\r\n",
        "    \"region\": sorted(list(data[\"region\"].unique())),\r\n",
        "    \"am\": sorted(list(data[\"am\"].unique())),\r\n",
        "    \"is_cashout\": sorted(list(data[\"is_cashout\"].unique())),\r\n",
        "}\r\n",
        "\r\n",
        "CAT_FEATURE_NAMES = list(CAT_FEATURES_WITH_VOCAB.keys())\r\n",
        "\r\n",
        "FEATURE_NAMES = NUM_FEATURE_NAMES + CAT_FEATURE_NAMES\r\n",
        "\r\n",
        "COLUMN_DEFAULTS = [\r\n",
        "    [0.0] if feature_name in NUM_FEATURE_NAMES else [\"NA\"]\r\n",
        "    for feature_name in CSV_HEADER\r\n",
        "]\r\n",
        "\r\n",
        "\r\n",
        "TARGET_FEATURE_NAME = \"application\"\r\n",
        "\r\n",
        "TARGET_LABELS = [\"no\", \"yes\"]"
      ],
      "execution_count": null,
      "outputs": []
    },
    {
      "cell_type": "markdown",
      "metadata": {
        "id": "1BJ0gkDKifpu"
      },
      "source": [
        "The last part of the *Preprocessing* section is the creation of boxplots for each of the variables in the dataset, grouped by target class. These plots provide a visualization of natural differences in the numeric variables based upon whether or not a mortgage application was submitted. First, the numeric variables."
      ]
    },
    {
      "cell_type": "code",
      "metadata": {
        "colab": {
          "base_uri": "https://localhost:8080/",
          "height": 1000
        },
        "id": "LZ_miA5A_Cdj",
        "outputId": "c45fa424-f0c3-41cd-eb17-8558fce37864"
      },
      "source": [
        "fig, axs = plt.subplots(5, 3, figsize = (30,40))\r\n",
        "axs = axs.flatten()\r\n",
        "for i, var in enumerate(NUM_FEATURE_NAMES):\r\n",
        "  sns.boxplot(x = 'application', y = var, data = data, orient = 'v', ax = axs[i])"
      ],
      "execution_count": null,
      "outputs": [
        {
          "output_type": "display_data",
          "data": {
            "image/png": "[encoded data removed]",
            "text/plain": [
              "<Figure size 2160x2880 with 15 Axes>"
            ]
          },
          "metadata": {
            "tags": [],
            "needs_background": "light"
          }
        }
      ]
    },
    {
      "cell_type": "markdown",
      "metadata": {
        "id": "Jz1sOQhRks7W"
      },
      "source": [
        "Next, the categorical variables."
      ]
    },
    {
      "cell_type": "code",
      "metadata": {
        "colab": {
          "base_uri": "https://localhost:8080/",
          "height": 840
        },
        "id": "0IPmmEa0jOtg",
        "outputId": "bc8cdd73-d6c7-4160-fe52-fec7f2c03d4f"
      },
      "source": [
        "fig, axs = plt.subplots(2, 3, figsize = (30,16))\r\n",
        "axs = axs.flatten()\r\n",
        "for i, var in enumerate(CAT_FEATURE_NAMES):\r\n",
        "  sns.countplot(x = var, hue='application', data = data, ax = axs[i])\r\n",
        "  axs[i].set_xticklabels(axs[i].get_xticklabels(),rotation=45)\r\n",
        "\r\n",
        "plt.subplots_adjust(hspace=0.5)"
      ],
      "execution_count": null,
      "outputs": [
        {
          "output_type": "display_data",
          "data": {
            "image/png": "[encoded data removed]",
            "text/plain": [
              "<Figure size 2160x1152 with 6 Axes>"
            ]
          },
          "metadata": {
            "tags": [],
            "needs_background": "light"
          }
        }
      ]
    },
    {
      "cell_type": "markdown",
      "metadata": {
        "id": "32wCM2iafX7M"
      },
      "source": [
        "# Modeling Setup\r\n",
        "\r\n",
        "---\r\n",
        "\r\n",
        "---\r\n",
        "\r\n",
        "\r\n",
        "\r\n"
      ]
    },
    {
      "cell_type": "markdown",
      "metadata": {
        "id": "W2mIoqvx5OdM"
      },
      "source": [
        "## Modeling Functions"
      ]
    },
    {
      "cell_type": "code",
      "metadata": {
        "id": "tLCwMu9X5Pub"
      },
      "source": [
        "# creates an input dictionary into which the training dataset is passed\n",
        "def create_model_inputs():\n",
        "  inputs={}\n",
        "  for feature_name in FEATURE_NAMES:\n",
        "    if feature_name in NUM_FEATURE_NAMES:\n",
        "      inputs[feature_name] = tf.keras.layers.Input(\n",
        "          name=feature_name, shape=(), dtype=tf.float32\n",
        "      )\n",
        "    else:\n",
        "      inputs[feature_name] = tf.keras.layers.Input(\n",
        "          name=feature_name, shape=(), dtype=tf.string\n",
        "      )\n",
        "  \n",
        "  return inputs\n",
        "\n",
        "\n",
        "# encodes the features passed through the input dictionary depending upon their dtype\n",
        "def encode_inputs(inputs, use_embedding=False):\n",
        "  encoded_features=[]\n",
        "  for feature_name in inputs:\n",
        "    if feature_name in CAT_FEATURE_NAMES:\n",
        "      vocabulary = CAT_FEATURES_WITH_VOCAB[feature_name]\n",
        "\n",
        "      index = tf.keras.layers.experimental.preprocessing.StringLookup(\n",
        "          vocabulary=vocabulary, mask_token=None, num_oov_indices=0\n",
        "      )\n",
        "      value_index = index(inputs[feature_name])\n",
        "      if use_embedding:\n",
        "        embedding_dims = int(math.sqrt(len(vocabulary)))\n",
        "        embedding_encoder = tf.keras.layers.Embedding(\n",
        "            input_dim=len(vocabulary), output_dim=embedding_dims\n",
        "        )\n",
        "        encoded_feature = embedding_encoder(value_index)\n",
        "      else:\n",
        "        onehot_encoder = tf.keras.layers.experimental.preprocessing.CategoryEncoding(output_mode='binary')\n",
        "        onehot_encoder.adapt(index(vocabulary))\n",
        "        encoded_feature = onehot_encoder(value_index)\n",
        "    else:\n",
        "      encoded_feature = inputs[feature_name]\n",
        "      if inputs[feature_name].shape[-1] is None:\n",
        "        encoded_feature = tf.expand_dims(encoded_feature, -1)\n",
        "\n",
        "    encoded_features.append(encoded_feature)\n",
        "\n",
        "  encoded_features = tf.keras.layers.concatenate(encoded_features)\n",
        "  return encoded_features\n",
        "\n",
        "\n",
        "# takes an already created model, compiles it, trains it, and evaluates it on the test data\n",
        "# has an option to include class weights for model training \n",
        "def run_experiment(model, class_weights=None):\n",
        "\n",
        "  model.compile(optimizer=tf.keras.optimizers.Adam(learning_rate=learning_rate),\n",
        "                loss=tf.keras.losses.SparseCategoricalCrossentropy(),\n",
        "                metrics=[tf.keras.metrics.SparseCategoricalAccuracy()])\n",
        "  \n",
        "  print('Initiating model training...')\n",
        "  train_dataset = get_dataset_from_csv('train_data.csv', shuffle=True, batch_size=batch_size)\n",
        "\n",
        "  if class_weights is not None:\n",
        "    model.fit(train_dataset, epochs=num_epochs, class_weight=class_weights)\n",
        "    print('Model training finished.\\n')\n",
        "\n",
        "  else:\n",
        "    model.fit(train_dataset, epochs=num_epochs)\n",
        "    print('Model training finished.\\n')\n",
        "\n",
        "  print('Evaluating model performance on test set...')\n",
        "  test_dataset = get_dataset_from_csv('test_data.csv', batch_size=batch_size)\n",
        "\n",
        "  _, accuracy = model.evaluate(test_dataset)\n",
        "  print(f'Test accuracy: {round(accuracy*100,2)}%')\n",
        "\n",
        "  preds = model.predict(test_dataset)\n",
        "  return preds\n",
        "\n",
        "\n",
        "# loads csv dataset from specified file path and formats it for modeling\n",
        "def get_dataset_from_csv(csv_file_path, shuffle=False, batch_size=128):\n",
        "  dataset = tf.data.experimental.make_csv_dataset(\n",
        "      csv_file_path,\n",
        "      batch_size=batch_size,\n",
        "      column_names=CSV_HEADER,\n",
        "      column_defaults=COLUMN_DEFAULTS,\n",
        "      label_name=TARGET_FEATURE_NAME,\n",
        "      num_epochs=1,\n",
        "      header=False,\n",
        "      na_value='?',\n",
        "      shuffle=shuffle\n",
        "  ).map(lambda features, target: (features, target_label_lookup(target)))\n",
        "  \n",
        "  return dataset\n",
        "\n",
        "\n",
        "# creates a neural decision tree model based upon already specified hyperparameters \n",
        "def create_tree_model():\n",
        "  inputs = create_model_inputs()\n",
        "  features = encode_inputs(inputs, use_embedding=True)\n",
        "  features = tf.keras.layers.BatchNormalization()(features)\n",
        "  num_features = features.shape[1]\n",
        "\n",
        "  tree = NeuralDecisionTree(depth, num_features, used_features_rate, num_classes)\n",
        "\n",
        "  outputs = tree(features)\n",
        "  model = tf.keras.Model(inputs=inputs, outputs=outputs)\n",
        "  return model\n",
        "\n",
        "\n",
        "# creates a neural decision forest model based upon already specified hyperparameters\n",
        "def create_forest_model():\n",
        "  inputs = create_model_inputs()\n",
        "  features = encode_inputs(inputs, use_embedding=True)\n",
        "  features = tf.keras.layers.BatchNormalization()(features)\n",
        "  num_features = features.shape[1]\n",
        "\n",
        "  forest_model = NeuralDecisionForest(num_trees, depth, num_features, used_features_rate, num_classes)\n",
        "\n",
        "  outputs = forest_model(features)\n",
        "  model = tf.keras.Model(inputs=inputs, outputs=outputs)\n",
        "  return model"
      ],
      "execution_count": null,
      "outputs": []
    },
    {
      "cell_type": "markdown",
      "metadata": {
        "id": "iaOtt9qkDuP1"
      },
      "source": [
        "## Classes"
      ]
    },
    {
      "cell_type": "code",
      "metadata": {
        "id": "V9o3NxekDvqK"
      },
      "source": [
        "# neural decision tree model class\n",
        "class NeuralDecisionTree(tf.keras.Model):\n",
        "  def __init__(self, depth, num_features, used_features_rate, num_classes):\n",
        "    super(NeuralDecisionTree, self).__init__()\n",
        "    self.depth = depth\n",
        "    self.num_leaves = 2**depth\n",
        "    self.num_classes = num_classes\n",
        "\n",
        "    num_used_features = int(num_features * used_features_rate)\n",
        "    one_hot = np.eye(num_features)\n",
        "    sampled_feature_indices = np.random.choice(np.arange(num_features), num_used_features, replace=False)\n",
        "    self.used_features_mask = one_hot[sampled_feature_indices]\n",
        "\n",
        "    self.pi = tf.Variable(\n",
        "        initial_value=tf.random_normal_initializer()(\n",
        "            shape=[self.num_leaves, self.num_classes]\n",
        "        ),\n",
        "        dtype='float32',\n",
        "        trainable=True\n",
        "    )\n",
        "\n",
        "    self.decision_fn = tf.keras.layers.Dense(\n",
        "        units=self.num_leaves, activation='sigmoid', name='decision'\n",
        "    )\n",
        "\n",
        "  def call(self, features):\n",
        "    batch_size = tf.shape(features)[0]\n",
        "\n",
        "    features = tf.matmul(\n",
        "        features, self.used_features_mask, transpose_b=True\n",
        "    )\n",
        "    decisions = tf.expand_dims(\n",
        "        self.decision_fn(features), axis=2\n",
        "    )\n",
        "    decisions = tf.keras.layers.concatenate(\n",
        "        [decisions, 1-decisions], axis=2\n",
        "    )\n",
        "\n",
        "    mu = tf.ones([batch_size, 1, 1])\n",
        "\n",
        "    begin_idx=1\n",
        "    end_idx=2\n",
        "    for level in range(self.depth):\n",
        "      mu = tf.reshape(mu, [batch_size, -1, 1])\n",
        "      mu = tf.tile(mu, (1, 1, 2))\n",
        "      level_decisions = decisions[\n",
        "                                  :, begin_idx:end_idx, :\n",
        "      ]\n",
        "      mu = mu*level_decisions\n",
        "      begin_idx = end_idx\n",
        "      end_idx = begin_idx + 2**(level+1)\n",
        "\n",
        "    mu = tf.reshape(mu, [batch_size, self.num_leaves])\n",
        "    probabilities = tf.keras.activations.softmax(self.pi)\n",
        "    outputs = tf.matmul(mu, probabilities)\n",
        "    return outputs\n",
        "\n",
        "\n",
        "# neural decision forest model class\n",
        "class NeuralDecisionForest(tf.keras.Model):\n",
        "  def __init__(self, num_trees, depth, num_features, used_features_rate, num_classes):\n",
        "    super(NeuralDecisionForest, self).__init__()\n",
        "    self.ensemble=[]\n",
        "\n",
        "    for _ in range(num_trees):\n",
        "      self.ensemble.append(\n",
        "          NeuralDecisionTree(depth, num_features, used_features_rate, num_classes)\n",
        "      )\n",
        "\n",
        "  def call(self, inputs):\n",
        "    batch_size = tf.shape(inputs)[0]\n",
        "    outputs = tf.zeros([batch_size, num_classes])\n",
        "\n",
        "    for tree in self.ensemble:\n",
        "      outputs += tree(inputs)\n",
        "    \n",
        "    outputs /= len(self.ensemble)\n",
        "    return outputs"
      ],
      "execution_count": null,
      "outputs": []
    },
    {
      "cell_type": "markdown",
      "metadata": {
        "id": "4OjI0sfdl0e_"
      },
      "source": [
        "# Modeling\r\n",
        "\r\n",
        "To combat the class imbalance problem in the *application* target variable, three different methods of handling such an imbalance will be tried. The first of these methods is class weighting - without removing any of the samples in the dataset or synthesizing any new samples, the target classes will be weighted by the frequency with which they appear in the training data. Ideally, these weightings will enable the model to \"pay more attention to\" the minority class than it would have otherwise, thereby enabling the model to learn the features of both classes instead of just the features of the majority class.\r\n",
        "\r\n",
        "The next two methods that will be tested are undersampling and oversampling. Undersampling refers to the process of reducing the majority class to a random selected subset of the class. The size of the subset will be proportional to the original size of the minority class, the idea being that the newly balanced dataset will maintain enough samples from the original majority class for the model to still be able to learn the features of that class. \r\n",
        "\r\n",
        "Oversampling does the opposite - it randomly selects samples from the minority class to duplicate, and it continues to do this until the size of the minority class matches the original size of the majority class. The benefit of sampling with this method is that the resultant dataset still contains all of the information present in the original majority class, and it now also contains a highly amplified version of the information within the original minority class."
      ]
    },
    {
      "cell_type": "markdown",
      "metadata": {
        "id": "MRzcHLPG_lXu"
      },
      "source": [
        "## Weighted Data\r\n",
        "\r\n",
        "---\r\n",
        "\r\n",
        "---\r\n",
        "\r\n",
        "\r\n",
        "\r\n"
      ]
    },
    {
      "cell_type": "markdown",
      "metadata": {
        "id": "3uLHameo_Vg4"
      },
      "source": [
        "### Data Preparation"
      ]
    },
    {
      "cell_type": "code",
      "metadata": {
        "id": "cIfxOKkpdrA_",
        "colab": {
          "base_uri": "https://localhost:8080/"
        },
        "outputId": "3432272a-c20a-4bf0-e5fe-ca212d3f6528"
      },
      "source": [
        "X_train, X_test, y_train, y_test = train_test_split(data[FEATURE_NAMES], data.application, test_size=0.2, stratify=data.application)\n",
        "train_data = pd.concat([X_train, y_train],axis=1,ignore_index=True)\n",
        "train_data.columns = FEATURE_NAMES + ['application']\n",
        "train_data.to_csv('train_data.csv', index=False, header=False, encoding='utf-8')\n",
        "\n",
        "test_data = pd.concat([X_test, y_test],axis=1,ignore_index=True)\n",
        "test_data.to_csv('test_data.csv', index=False, header=False, encoding='utf-8')\n",
        "\n",
        "weight_for_0 = 1/len(train_data[train_data.iloc[:,-1]=='no'])*len(train_data)/2\n",
        "weight_for_1 = 1/len(train_data[train_data.iloc[:,-1]=='yes'])*len(train_data)/2\n",
        "print(f'Negative Class Weight: {weight_for_0}')\n",
        "print(f'Positive Class Weight: {weight_for_1}')"
      ],
      "execution_count": null,
      "outputs": [
        {
          "output_type": "stream",
          "text": [
            "Negative Class Weight: 0.5198479266285176\n",
            "Positive Class Weight: 13.095774091627172\n"
          ],
          "name": "stdout"
        }
      ]
    },
    {
      "cell_type": "markdown",
      "metadata": {
        "id": "SIP1bt4_oQLo"
      },
      "source": [
        "The positive class weight here is over 25 times higher than the negative class weight, which makes sense given the original 4%-96% split of the dataset."
      ]
    },
    {
      "cell_type": "code",
      "metadata": {
        "id": "wwkYD2EDJWvE"
      },
      "source": [
        "# model hyperparameters\n",
        "learning_rate=0.01\n",
        "batch_size=265\n",
        "num_epochs=10\n",
        "hidden_units=[64,64]\n",
        "\n",
        "num_trees=10\n",
        "depth=10\n",
        "used_features_rate=1.0\n",
        "num_classes=len(TARGET_LABELS)\n",
        "\n",
        "class_weight = {0: weight_for_0, 1: weight_for_1}\n",
        "\n",
        "\n",
        "target_label_lookup = tf.keras.layers.experimental.preprocessing.StringLookup(\n",
        "    vocabulary=TARGET_LABELS, mask_token=None, num_oov_indices=0\n",
        ")"
      ],
      "execution_count": null,
      "outputs": []
    },
    {
      "cell_type": "markdown",
      "metadata": {
        "id": "0xLtutLzokiu"
      },
      "source": [
        "First, a neural decision tree is trained with the hyperparameters specified above, including the calculated class weights, and then evaluated on the test set. Following that, a neural decision forest is also trained and evaluated. "
      ]
    },
    {
      "cell_type": "markdown",
      "metadata": {
        "id": "V8PnBkZH_eXq"
      },
      "source": [
        "### Neural Decision Tree"
      ]
    },
    {
      "cell_type": "code",
      "metadata": {
        "colab": {
          "base_uri": "https://localhost:8080/"
        },
        "id": "ublaf96AUwa9",
        "outputId": "8eead983-5773-4328-f5fe-2f49eb4e0aea"
      },
      "source": [
        "tree_model = create_tree_model()\n",
        "test_preds_weighted_tree = run_experiment(tree_model, class_weight)\n",
        "\n",
        "test_class_preds_weighted_tree = [np.argmax(pred) for pred in test_preds_weighted_tree]\n",
        "tsd = pd.read_csv('test_data.csv',header=None)\n",
        "tsd.columns = CSV_HEADER\n",
        "tsd.application = tsd.application.apply(lambda x: 0 if x=='no' else 1)\n",
        "true_labels = tsd.application.values\n",
        "roc_auc_preds = [pred[1] for pred in test_preds_weighted_tree]\n",
        "print(f'AUC: {roc_auc_score(true_labels, roc_auc_preds)}\\n')\n",
        "print('Classification Report:')\n",
        "print(classification_report(true_labels, test_class_preds_weighted_tree))"
      ],
      "execution_count": null,
      "outputs": [
        {
          "output_type": "stream",
          "text": [
            "Initiating model training...\n",
            "Epoch 1/10\n",
            "251/251 [==============================] - 7s 11ms/step - loss: 0.6676 - sparse_categorical_accuracy: 0.6525\n",
            "Epoch 2/10\n",
            "251/251 [==============================] - 3s 11ms/step - loss: 0.6498 - sparse_categorical_accuracy: 0.6087\n",
            "Epoch 3/10\n",
            "251/251 [==============================] - 3s 11ms/step - loss: 0.6515 - sparse_categorical_accuracy: 0.6071\n",
            "Epoch 4/10\n",
            "251/251 [==============================] - 3s 11ms/step - loss: 0.6390 - sparse_categorical_accuracy: 0.6033\n",
            "Epoch 5/10\n",
            "251/251 [==============================] - 3s 11ms/step - loss: 0.6463 - sparse_categorical_accuracy: 0.6071\n",
            "Epoch 6/10\n",
            "251/251 [==============================] - 3s 11ms/step - loss: 0.6348 - sparse_categorical_accuracy: 0.6137\n",
            "Epoch 7/10\n",
            "251/251 [==============================] - 3s 11ms/step - loss: 0.6262 - sparse_categorical_accuracy: 0.6289\n",
            "Epoch 8/10\n",
            "251/251 [==============================] - 3s 11ms/step - loss: 0.6174 - sparse_categorical_accuracy: 0.6452\n",
            "Epoch 9/10\n",
            "251/251 [==============================] - 3s 11ms/step - loss: 0.6019 - sparse_categorical_accuracy: 0.6485\n",
            "Epoch 10/10\n",
            "251/251 [==============================] - 3s 11ms/step - loss: 0.5950 - sparse_categorical_accuracy: 0.6533\n",
            "Model training finished.\n",
            "\n",
            "Evaluating model performance on test set...\n",
            "63/63 [==============================] - 1s 8ms/step - loss: 0.5705 - sparse_categorical_accuracy: 0.6616\n",
            "Test accuracy: 66.16%\n",
            "AUC: 0.6636779454375478\n",
            "\n",
            "Classification Report:\n",
            "              precision    recall  f1-score   support\n",
            "\n",
            "           0       0.98      0.67      0.79     15947\n",
            "           1       0.06      0.57      0.11       633\n",
            "\n",
            "    accuracy                           0.66     16580\n",
            "   macro avg       0.52      0.62      0.45     16580\n",
            "weighted avg       0.94      0.66      0.76     16580\n",
            "\n"
          ],
          "name": "stdout"
        }
      ]
    },
    {
      "cell_type": "markdown",
      "metadata": {
        "id": "mFlfil7a_itG"
      },
      "source": [
        "### Neural Decision Forest"
      ]
    },
    {
      "cell_type": "code",
      "metadata": {
        "colab": {
          "base_uri": "https://localhost:8080/"
        },
        "id": "xmzc3n-mP-hm",
        "outputId": "9c242a0a-1445-481a-e650-48255e224cda"
      },
      "source": [
        "forest_model = create_forest_model()\r\n",
        "test_preds_weighted_forest = run_experiment(forest_model, class_weight)\r\n",
        "\r\n",
        "test_class_preds_weighted_forest = [np.argmax(pred) for pred in test_preds_weighted_forest]\r\n",
        "tsd = pd.read_csv('test_data.csv',header=None)\r\n",
        "tsd.columns = CSV_HEADER\r\n",
        "tsd.application = tsd.application.apply(lambda x: 0 if x=='no' else 1)\r\n",
        "true_labels = tsd.application.values\r\n",
        "roc_auc_preds = [pred[1] for pred in test_preds_weighted_forest]\r\n",
        "print(f'AUC: {roc_auc_score(true_labels, roc_auc_preds)}\\n')\r\n",
        "print('Classification Report:')\r\n",
        "print(classification_report(true_labels, test_class_preds_weighted_forest))"
      ],
      "execution_count": null,
      "outputs": [
        {
          "output_type": "stream",
          "text": [
            "Initiating model training...\n",
            "Epoch 1/10\n",
            "251/251 [==============================] - 15s 28ms/step - loss: 0.6760 - sparse_categorical_accuracy: 0.4923\n",
            "Epoch 2/10\n",
            "251/251 [==============================] - 7s 28ms/step - loss: 0.6554 - sparse_categorical_accuracy: 0.6035\n",
            "Epoch 3/10\n",
            "251/251 [==============================] - 7s 28ms/step - loss: 0.6444 - sparse_categorical_accuracy: 0.5895\n",
            "Epoch 4/10\n",
            "251/251 [==============================] - 7s 28ms/step - loss: 0.6402 - sparse_categorical_accuracy: 0.6002\n",
            "Epoch 5/10\n",
            "251/251 [==============================] - 7s 28ms/step - loss: 0.6297 - sparse_categorical_accuracy: 0.6142\n",
            "Epoch 6/10\n",
            "251/251 [==============================] - 7s 28ms/step - loss: 0.6232 - sparse_categorical_accuracy: 0.6264\n",
            "Epoch 7/10\n",
            "251/251 [==============================] - 7s 28ms/step - loss: 0.6152 - sparse_categorical_accuracy: 0.6431\n",
            "Epoch 8/10\n",
            "251/251 [==============================] - 7s 28ms/step - loss: 0.5828 - sparse_categorical_accuracy: 0.6727\n",
            "Epoch 9/10\n",
            "251/251 [==============================] - 7s 27ms/step - loss: 0.5580 - sparse_categorical_accuracy: 0.6891\n",
            "Epoch 10/10\n",
            "251/251 [==============================] - 7s 28ms/step - loss: 0.5470 - sparse_categorical_accuracy: 0.7110\n",
            "Model training finished.\n",
            "\n",
            "Evaluating model performance on test set...\n",
            "63/63 [==============================] - 2s 9ms/step - loss: 0.5153 - sparse_categorical_accuracy: 0.7270\n",
            "Test accuracy: 72.7%\n",
            "AUC: 0.665591818713073\n",
            "\n",
            "Classification Report:\n",
            "              precision    recall  f1-score   support\n",
            "\n",
            "           0       0.97      0.74      0.84     15947\n",
            "           1       0.07      0.49      0.12       633\n",
            "\n",
            "    accuracy                           0.73     16580\n",
            "   macro avg       0.52      0.61      0.48     16580\n",
            "weighted avg       0.94      0.73      0.81     16580\n",
            "\n"
          ],
          "name": "stdout"
        }
      ]
    },
    {
      "cell_type": "markdown",
      "metadata": {
        "id": "5nvEdyuRpJRJ"
      },
      "source": [
        "Neither of these models proves to perform particularly well. The neural decision tree performs slightly worse, achieving a test set accuracy of roughly 66% and an AUC of only about 0.66. The neural decision forest turns out to be a bit better, landing a test set accuracy of 73%. It's AUC doesn't really improve at all, though, remaining at around 0.67. It appears that the weighting of the classes didn't do all that much, especially since precision for the positive class was only 0.06 for the neural decision tree and 0.07 neural decision forest.   "
      ]
    },
    {
      "cell_type": "markdown",
      "metadata": {
        "id": "igvqsr01_t2h"
      },
      "source": [
        "## Undersampled Data\r\n",
        "\r\n",
        "---\r\n",
        "\r\n",
        "---\r\n",
        "\r\n",
        "\r\n",
        "\r\n"
      ]
    },
    {
      "cell_type": "markdown",
      "metadata": {
        "id": "kHwfJXrgAb3I"
      },
      "source": [
        "### Data Preparation"
      ]
    },
    {
      "cell_type": "code",
      "metadata": {
        "id": "Vds2jWvr_z-g"
      },
      "source": [
        "# undersampling of the majority class in the training data such that the final dataset is\r\n",
        "# split 63/35 between the original majority and minority classes\r\n",
        "X_train, X_test, y_train, y_test = train_test_split(data[FEATURE_NAMES], data.application, test_size=0.2, stratify=data.application)\r\n",
        "under = RandomUnderSampler(sampling_strategy=0.35)\r\n",
        "under_sampled_X, under_sampled_y = under.fit_sample(X_train, y_train) \r\n",
        "\r\n",
        "\r\n",
        "train_data = pd.concat([pd.DataFrame(under_sampled_X), pd.DataFrame(under_sampled_y)],axis=1,ignore_index=True)\r\n",
        "train_data.columns = FEATURE_NAMES + ['application']\r\n",
        "train_data.to_csv('train_data.csv', index=False, header=False, encoding='utf-8')\r\n",
        "\r\n",
        "test_data = pd.concat([pd.DataFrame(X_test), pd.DataFrame(y_test)],axis=1,ignore_index=True)\r\n",
        "test_data.to_csv('test_data.csv', index=False, header=False, encoding='utf-8')"
      ],
      "execution_count": null,
      "outputs": []
    },
    {
      "cell_type": "code",
      "metadata": {
        "id": "lmJ5lXViA8gr"
      },
      "source": [
        "# model hyperparameters\r\n",
        "learning_rate=0.01\r\n",
        "batch_size=265\r\n",
        "num_epochs=10\r\n",
        "hidden_units=[64,64]\r\n",
        "\r\n",
        "num_trees=10\r\n",
        "depth=10\r\n",
        "used_features_rate=1.0\r\n",
        "num_classes=len(TARGET_LABELS)\r\n",
        "\r\n",
        "\r\n",
        "target_label_lookup = tf.keras.layers.experimental.preprocessing.StringLookup(\r\n",
        "    vocabulary=TARGET_LABELS, mask_token=None, num_oov_indices=0\r\n",
        ")"
      ],
      "execution_count": null,
      "outputs": []
    },
    {
      "cell_type": "markdown",
      "metadata": {
        "id": "U3XnNbtdBBTl"
      },
      "source": [
        "### Neural Decision Tree"
      ]
    },
    {
      "cell_type": "code",
      "metadata": {
        "colab": {
          "base_uri": "https://localhost:8080/"
        },
        "id": "2cxy7rAMBA04",
        "outputId": "e92bbe66-d093-479e-d7fd-040492eaa1f3"
      },
      "source": [
        "tree_model = create_tree_model()\r\n",
        "test_preds_undersampled_tree = run_experiment(tree_model)\r\n",
        "\r\n",
        "test_class_preds_undersampled_tree = [np.argmax(pred) for pred in test_preds_undersampled_tree]\r\n",
        "tsd = pd.read_csv('test_data.csv',header=None)\r\n",
        "tsd.columns = CSV_HEADER\r\n",
        "tsd.application = tsd.application.apply(lambda x: 0 if x=='no' else 1)\r\n",
        "true_labels = tsd.application.values\r\n",
        "roc_auc_preds = [pred[1] for pred in test_preds_undersampled_tree]\r\n",
        "print(f'AUC: {roc_auc_score(true_labels, roc_auc_preds)}\\n')\r\n",
        "print('Classification Report:')\r\n",
        "print(classification_report(true_labels, test_class_preds_undersampled_tree))"
      ],
      "execution_count": null,
      "outputs": [
        {
          "output_type": "stream",
          "text": [
            "Initiating model training...\n",
            "Epoch 1/10\n",
            "37/37 [==============================] - 2s 8ms/step - loss: 0.6516 - sparse_categorical_accuracy: 0.6842\n",
            "Epoch 2/10\n",
            "37/37 [==============================] - 0s 8ms/step - loss: 0.5458 - sparse_categorical_accuracy: 0.7421\n",
            "Epoch 3/10\n",
            "37/37 [==============================] - 0s 8ms/step - loss: 0.5284 - sparse_categorical_accuracy: 0.7403\n",
            "Epoch 4/10\n",
            "37/37 [==============================] - 0s 8ms/step - loss: 0.5248 - sparse_categorical_accuracy: 0.7481\n",
            "Epoch 5/10\n",
            "37/37 [==============================] - 0s 8ms/step - loss: 0.5253 - sparse_categorical_accuracy: 0.7415\n",
            "Epoch 6/10\n",
            "37/37 [==============================] - 0s 8ms/step - loss: 0.5140 - sparse_categorical_accuracy: 0.7475\n",
            "Epoch 7/10\n",
            "37/37 [==============================] - 0s 8ms/step - loss: 0.5062 - sparse_categorical_accuracy: 0.7543\n",
            "Epoch 8/10\n",
            "37/37 [==============================] - 0s 9ms/step - loss: 0.4977 - sparse_categorical_accuracy: 0.7670\n",
            "Epoch 9/10\n",
            "37/37 [==============================] - 0s 8ms/step - loss: 0.4879 - sparse_categorical_accuracy: 0.7704\n",
            "Epoch 10/10\n",
            "37/37 [==============================] - 0s 8ms/step - loss: 0.4828 - sparse_categorical_accuracy: 0.7753\n",
            "Model training finished.\n",
            "\n",
            "Evaluating model performance on test set...\n",
            "63/63 [==============================] - 1s 8ms/step - loss: 0.3422 - sparse_categorical_accuracy: 0.8832\n",
            "Test accuracy: 88.32%\n",
            "AUC: 0.6623386452616393\n",
            "\n",
            "Classification Report:\n",
            "              precision    recall  f1-score   support\n",
            "\n",
            "           0       0.97      0.91      0.94     15947\n",
            "           1       0.08      0.19      0.11       633\n",
            "\n",
            "    accuracy                           0.88     16580\n",
            "   macro avg       0.52      0.55      0.52     16580\n",
            "weighted avg       0.93      0.88      0.91     16580\n",
            "\n"
          ],
          "name": "stdout"
        }
      ]
    },
    {
      "cell_type": "markdown",
      "metadata": {
        "id": "VkC2yKpZBDTo"
      },
      "source": [
        "### Neural Decision Forest"
      ]
    },
    {
      "cell_type": "code",
      "metadata": {
        "colab": {
          "base_uri": "https://localhost:8080/"
        },
        "id": "q2hDB_3RBF07",
        "outputId": "f1d31b1b-907b-4502-d77d-68e9829419e9"
      },
      "source": [
        "forest_model = create_forest_model()\r\n",
        "test_preds_undersampled_forest = run_experiment(forest_model)\r\n",
        "\r\n",
        "test_class_preds_undersampled_forest = [np.argmax(pred) for pred in test_preds_undersampled_forest]\r\n",
        "tsd = pd.read_csv('test_data.csv',header=None)\r\n",
        "tsd.columns = CSV_HEADER\r\n",
        "tsd.application = tsd.application.apply(lambda x: 0 if x=='no' else 1)\r\n",
        "true_labels = tsd.application.values\r\n",
        "roc_auc_preds = [pred[1] for pred in test_preds_undersampled_forest]\r\n",
        "print(f'AUC: {roc_auc_score(true_labels, roc_auc_preds)}\\n')\r\n",
        "print('Classification Report:')\r\n",
        "print(classification_report(true_labels, test_class_preds_undersampled_forest))"
      ],
      "execution_count": null,
      "outputs": [
        {
          "output_type": "stream",
          "text": [
            "Initiating model training...\n",
            "Epoch 1/10\n",
            "37/37 [==============================] - 9s 27ms/step - loss: 0.6546 - sparse_categorical_accuracy: 0.7235\n",
            "Epoch 2/10\n",
            "37/37 [==============================] - 1s 24ms/step - loss: 0.5467 - sparse_categorical_accuracy: 0.7449\n",
            "Epoch 3/10\n",
            "37/37 [==============================] - 1s 24ms/step - loss: 0.5372 - sparse_categorical_accuracy: 0.7390\n",
            "Epoch 4/10\n",
            "37/37 [==============================] - 1s 25ms/step - loss: 0.5205 - sparse_categorical_accuracy: 0.7522\n",
            "Epoch 5/10\n",
            "37/37 [==============================] - 1s 25ms/step - loss: 0.5186 - sparse_categorical_accuracy: 0.7493\n",
            "Epoch 6/10\n",
            "37/37 [==============================] - 1s 24ms/step - loss: 0.5073 - sparse_categorical_accuracy: 0.7527\n",
            "Epoch 7/10\n",
            "37/37 [==============================] - 1s 24ms/step - loss: 0.5082 - sparse_categorical_accuracy: 0.7528\n",
            "Epoch 8/10\n",
            "37/37 [==============================] - 1s 26ms/step - loss: 0.4947 - sparse_categorical_accuracy: 0.7656\n",
            "Epoch 9/10\n",
            "37/37 [==============================] - 1s 24ms/step - loss: 0.4802 - sparse_categorical_accuracy: 0.7771\n",
            "Epoch 10/10\n",
            "37/37 [==============================] - 1s 25ms/step - loss: 0.4673 - sparse_categorical_accuracy: 0.7893\n",
            "Model training finished.\n",
            "\n",
            "Evaluating model performance on test set...\n",
            "63/63 [==============================] - 2s 8ms/step - loss: 0.3388 - sparse_categorical_accuracy: 0.8917\n",
            "Test accuracy: 89.17%\n",
            "AUC: 0.662609784326062\n",
            "\n",
            "Classification Report:\n",
            "              precision    recall  f1-score   support\n",
            "\n",
            "           0       0.97      0.92      0.94     15947\n",
            "           1       0.08      0.18      0.11       633\n",
            "\n",
            "    accuracy                           0.89     16580\n",
            "   macro avg       0.52      0.55      0.53     16580\n",
            "weighted avg       0.93      0.89      0.91     16580\n",
            "\n"
          ],
          "name": "stdout"
        }
      ]
    },
    {
      "cell_type": "markdown",
      "metadata": {
        "id": "BwNW_xVcsSFi"
      },
      "source": [
        "Undersampling the data has had an interesting effect on the model's outputs - it was raised the precision of the minority class slightly, but it's also dropped the recall of this class quite drastically. Moreover, both the precision and recall of the majority class is over 0.90, indicating that the model has learned the features of this class quite well. Though both the neural decision tree and the neural decision forest produce rather significantly high accuracies at 88% and 89%, respectively, their AUC scores are consistent with those from the previous set of models, both landing at 0.66. The accuracy-AUC disparity is the direct result of the models' poor recall with respect to the minority class, thus making it clear that these models are feverishly overpredicting the majority class."
      ]
    },
    {
      "cell_type": "markdown",
      "metadata": {
        "id": "Z464GBi6_7gQ"
      },
      "source": [
        "## Oversampled Data\r\n",
        "\r\n",
        "---\r\n",
        "\r\n",
        "---\r\n",
        "\r\n",
        "\r\n",
        "\r\n",
        "\r\n",
        "\r\n",
        "\r\n"
      ]
    },
    {
      "cell_type": "markdown",
      "metadata": {
        "id": "6K9Qv2YrAveC"
      },
      "source": [
        "### Data Preparation"
      ]
    },
    {
      "cell_type": "code",
      "metadata": {
        "id": "JlOCWPqkWUPR"
      },
      "source": [
        "# undersampling of the majority class in the training data such that the final dataset is\r\n",
        "# split 63/35 between the original majority and minority classes\r\n",
        "X_train, X_test, y_train, y_test = train_test_split(data[FEATURE_NAMES], data.application, test_size=0.2, stratify=data.application)\r\n",
        "over = RandomOverSampler(ratio=0.10)\r\n",
        "over_sampled_X, over_sampled_y = over.fit_resample(X_train, y_train)\r\n",
        "\r\n",
        "\r\n",
        "train_data = pd.concat([pd.DataFrame(over_sampled_X), pd.DataFrame(over_sampled_y)],axis=1,ignore_index=True)\r\n",
        "train_data.columns = FEATURE_NAMES + ['application']\r\n",
        "train_data.to_csv('train_data.csv', index=False, header=False, encoding='utf-8')\r\n",
        "\r\n",
        "test_data = pd.concat([pd.DataFrame(X_test), pd.DataFrame(y_test)],axis=1,ignore_index=True)\r\n",
        "test_data.to_csv('test_data.csv', index=False, header=False, encoding='utf-8')"
      ],
      "execution_count": null,
      "outputs": []
    },
    {
      "cell_type": "code",
      "metadata": {
        "id": "0zNPy9Y-Vv14"
      },
      "source": [
        "# model hyperparameters\r\n",
        "learning_rate=0.01\r\n",
        "batch_size=64\r\n",
        "num_epochs=5\r\n",
        "hidden_units=[256,256]\r\n",
        "\r\n",
        "num_trees=10\r\n",
        "depth=15\r\n",
        "used_features_rate=0.5\r\n",
        "num_classes=len(TARGET_LABELS)\r\n",
        "\r\n",
        "\r\n",
        "target_label_lookup = tf.keras.layers.experimental.preprocessing.StringLookup(\r\n",
        "    vocabulary=TARGET_LABELS, mask_token=None, num_oov_indices=0\r\n",
        ")"
      ],
      "execution_count": null,
      "outputs": []
    },
    {
      "cell_type": "markdown",
      "metadata": {
        "id": "-HnxFXhgB5pa"
      },
      "source": [
        "### Neural Decision Tree"
      ]
    },
    {
      "cell_type": "code",
      "metadata": {
        "colab": {
          "base_uri": "https://localhost:8080/"
        },
        "id": "MiMtDZMTXUrI",
        "outputId": "a73dd2a5-7fa4-47dd-a53b-a01589501a0f"
      },
      "source": [
        "tree_model = create_tree_model()\r\n",
        "test_preds_oversampled_tree = run_experiment(tree_model)\r\n",
        "\r\n",
        "test_class_preds_oversampled_tree = [np.argmax(pred) for pred in test_preds_oversampled_tree]\r\n",
        "tsd = pd.read_csv('test_data.csv',header=None)\r\n",
        "tsd.columns = CSV_HEADER\r\n",
        "tsd.application = tsd.application.apply(lambda x: 0 if x=='no' else 1)\r\n",
        "true_labels = tsd.application.values\r\n",
        "roc_auc_preds = [pred[1] for pred in test_preds_oversampled_tree]\r\n",
        "print(f'AUC: {roc_auc_score(true_labels, roc_auc_preds)}\\n')\r\n",
        "print('Classification Report:')\r\n",
        "print(classification_report(true_labels, test_class_preds_oversampled_tree))"
      ],
      "execution_count": null,
      "outputs": [
        {
          "output_type": "stream",
          "text": [
            "Initiating model training...\n",
            "Epoch 1/5\n",
            "1097/1097 [==============================] - 15s 12ms/step - loss: 0.2423 - sparse_categorical_accuracy: 0.9495\n",
            "Epoch 2/5\n",
            "1097/1097 [==============================] - 13s 12ms/step - loss: 0.1835 - sparse_categorical_accuracy: 0.9509\n",
            "Epoch 3/5\n",
            "1097/1097 [==============================] - 13s 12ms/step - loss: 0.1864 - sparse_categorical_accuracy: 0.9483\n",
            "Epoch 4/5\n",
            "1097/1097 [==============================] - 13s 12ms/step - loss: 0.1794 - sparse_categorical_accuracy: 0.9509\n",
            "Epoch 5/5\n",
            "1097/1097 [==============================] - 13s 12ms/step - loss: 0.1829 - sparse_categorical_accuracy: 0.9491\n",
            "Model training finished.\n",
            "\n",
            "Evaluating model performance on test set...\n",
            "260/260 [==============================] - 2s 4ms/step - loss: 0.4434 - sparse_categorical_accuracy: 0.7648\n",
            "Test accuracy: 76.48%\n",
            "AUC: 0.6790186509400066\n",
            "\n",
            "Classification Report:\n",
            "              precision    recall  f1-score   support\n",
            "\n",
            "           0       0.97      0.78      0.86     15947\n",
            "           1       0.07      0.43      0.12       633\n",
            "\n",
            "    accuracy                           0.76     16580\n",
            "   macro avg       0.52      0.60      0.49     16580\n",
            "weighted avg       0.94      0.76      0.84     16580\n",
            "\n"
          ],
          "name": "stdout"
        }
      ]
    },
    {
      "cell_type": "markdown",
      "metadata": {
        "id": "oEEwN1t3B7M-"
      },
      "source": [
        "### Neural Decision Forest"
      ]
    },
    {
      "cell_type": "code",
      "metadata": {
        "colab": {
          "base_uri": "https://localhost:8080/"
        },
        "id": "WzigDV0mXrEI",
        "outputId": "450213c6-6200-460e-d186-ff960582eb4f"
      },
      "source": [
        "forest_model = create_forest_model()\r\n",
        "test_preds_oversampled_forest = run_experiment(forest_model)\r\n",
        "\r\n",
        "test_class_preds_oversampled_forest = [np.argmax(pred) for pred in test_preds_oversampled_forest]\r\n",
        "tsd = pd.read_csv('test_data.csv',header=None)\r\n",
        "tsd.columns = CSV_HEADER\r\n",
        "tsd.application = tsd.application.apply(lambda x: 0 if x=='no' else 1)\r\n",
        "true_labels = tsd.application.values\r\n",
        "roc_auc_preds = [pred[1] for pred in test_preds_oversampled_forest]\r\n",
        "print(f'AUC: {roc_auc_score(true_labels, roc_auc_preds)}\\n')\r\n",
        "print('Classification Report:')\r\n",
        "print(classification_report(true_labels, test_class_preds_oversampled_forest))"
      ],
      "execution_count": null,
      "outputs": [
        {
          "output_type": "stream",
          "text": [
            "Initiating model training...\n",
            "Epoch 1/5\n",
            "1097/1097 [==============================] - 91s 73ms/step - loss: 0.2547 - sparse_categorical_accuracy: 0.9497\n",
            "Epoch 2/5\n",
            "1097/1097 [==============================] - 81s 74ms/step - loss: 0.1811 - sparse_categorical_accuracy: 0.9530\n",
            "Epoch 3/5\n",
            "1097/1097 [==============================] - 82s 74ms/step - loss: 0.1794 - sparse_categorical_accuracy: 0.9530\n",
            "Epoch 4/5\n",
            "1097/1097 [==============================] - 82s 74ms/step - loss: 0.1815 - sparse_categorical_accuracy: 0.9524\n",
            "Epoch 5/5\n",
            "1097/1097 [==============================] - 81s 74ms/step - loss: 0.1821 - sparse_categorical_accuracy: 0.9524\n",
            "Model training finished.\n",
            "\n",
            "Evaluating model performance on test set...\n",
            "260/260 [==============================] - 6s 17ms/step - loss: 0.4066 - sparse_categorical_accuracy: 0.8641\n",
            "Test accuracy: 86.41%\n",
            "AUC: 0.6772048821674402\n",
            "\n",
            "Classification Report:\n",
            "              precision    recall  f1-score   support\n",
            "\n",
            "           0       0.97      0.89      0.93     15947\n",
            "           1       0.07      0.20      0.10       633\n",
            "\n",
            "    accuracy                           0.86     16580\n",
            "   macro avg       0.52      0.55      0.51     16580\n",
            "weighted avg       0.93      0.86      0.90     16580\n",
            "\n"
          ],
          "name": "stdout"
        }
      ]
    },
    {
      "cell_type": "markdown",
      "metadata": {
        "id": "NZixPu2hy6Ui"
      },
      "source": [
        "Oversampling of the data appears to work marginally better, at least in terms of the model's AUC scores, which are both roughly 0.68. As for their accuracies, the neural decision tree produces an accuracy of 77% whereas the neural decision forest produces an accuracy of 86%. Although the neural decision forest does have a higher accuracy, it struggles much more when it comes to the recall of the minority class, coming in at 0.20 as compared to the neural decision tree's recall of 0.43. This recall disparity also extends to the majority class, where the neural decision forest has a score of 0.89 and the neural decision forest has a score of 0.78. It does appear that due to its increased capacity as compared to the tree model, the forest model has learned the features of the majority class a bit more closely, perhaps more so than it should have. "
      ]
    },
    {
      "cell_type": "markdown",
      "metadata": {
        "id": "ZjRn_m_5qa_8"
      },
      "source": [
        "# Predictive Lead Scoring Evaluation\r\n",
        "\r\n",
        "Now that these models have been constructed and their predictions have been tested, the efficacy of a targeted approach to lead evaluation can be assessed. For each of these six models under consideration, only those leads in the test data for which an application submission is predicted will be targeted. To compare the quality of these subsets of leads to the overall set of sales leads, aggregate costs and cost per submitted application are calculated. The conversion rate of sales leads is also computed for each set. As was mentioned previously, a more targeted approach to targeting leads will ideally result in a decrease in spending and an increase in conversion rates. "
      ]
    },
    {
      "cell_type": "code",
      "metadata": {
        "colab": {
          "base_uri": "https://localhost:8080/",
          "height": 204
        },
        "id": "lPbqfZ0HqaZZ",
        "outputId": "4859e6dd-8805-4a45-ac7e-f153ce9061f4"
      },
      "source": [
        "test_data.columns = train_data.columns\r\n",
        "evaluation_ds = pd.concat([test_data.cost,test_data.application], axis=1).reset_index(drop=True)\r\n",
        "evaluation_ds.columns = ['cost','application']\r\n",
        "evaluation_ds.application = evaluation_ds.application.apply(lambda x: 0 if x=='no' else 1)\r\n",
        "evaluation_ds['weighted_tree'] = test_class_preds_weighted_tree\r\n",
        "evaluation_ds['weighted_forest'] = test_class_preds_weighted_forest\r\n",
        "evaluation_ds['undersampled_tree'] = test_class_preds_undersampled_tree\r\n",
        "evaluation_ds['undersampled_forest'] = test_class_preds_undersampled_forest\r\n",
        "evaluation_ds['oversampled_tree'] = test_class_preds_oversampled_tree\r\n",
        "evaluation_ds['oversampled_forest'] = test_class_preds_oversampled_forest\r\n",
        "evaluation_ds.head()"
      ],
      "execution_count": null,
      "outputs": [
        {
          "output_type": "execute_result",
          "data": {
            "text/html": [
              "<div>\n",
              "<style scoped>\n",
              "    .dataframe tbody tr th:only-of-type {\n",
              "        vertical-align: middle;\n",
              "    }\n",
              "\n",
              "    .dataframe tbody tr th {\n",
              "        vertical-align: top;\n",
              "    }\n",
              "\n",
              "    .dataframe thead th {\n",
              "        text-align: right;\n",
              "    }\n",
              "</style>\n",
              "<table border=\"1\" class=\"dataframe\">\n",
              "  <thead>\n",
              "    <tr style=\"text-align: right;\">\n",
              "      <th></th>\n",
              "      <th>cost</th>\n",
              "      <th>application</th>\n",
              "      <th>weighted_tree</th>\n",
              "      <th>weighted_forest</th>\n",
              "      <th>undersampled_tree</th>\n",
              "      <th>undersampled_forest</th>\n",
              "      <th>oversampled_tree</th>\n",
              "      <th>oversampled_forest</th>\n",
              "    </tr>\n",
              "  </thead>\n",
              "  <tbody>\n",
              "    <tr>\n",
              "      <th>0</th>\n",
              "      <td>45</td>\n",
              "      <td>0</td>\n",
              "      <td>0</td>\n",
              "      <td>0</td>\n",
              "      <td>0</td>\n",
              "      <td>0</td>\n",
              "      <td>0</td>\n",
              "      <td>0</td>\n",
              "    </tr>\n",
              "    <tr>\n",
              "      <th>1</th>\n",
              "      <td>36</td>\n",
              "      <td>0</td>\n",
              "      <td>0</td>\n",
              "      <td>0</td>\n",
              "      <td>0</td>\n",
              "      <td>0</td>\n",
              "      <td>0</td>\n",
              "      <td>0</td>\n",
              "    </tr>\n",
              "    <tr>\n",
              "      <th>2</th>\n",
              "      <td>35</td>\n",
              "      <td>0</td>\n",
              "      <td>0</td>\n",
              "      <td>0</td>\n",
              "      <td>0</td>\n",
              "      <td>0</td>\n",
              "      <td>0</td>\n",
              "      <td>0</td>\n",
              "    </tr>\n",
              "    <tr>\n",
              "      <th>3</th>\n",
              "      <td>43</td>\n",
              "      <td>0</td>\n",
              "      <td>1</td>\n",
              "      <td>0</td>\n",
              "      <td>0</td>\n",
              "      <td>0</td>\n",
              "      <td>0</td>\n",
              "      <td>0</td>\n",
              "    </tr>\n",
              "    <tr>\n",
              "      <th>4</th>\n",
              "      <td>60</td>\n",
              "      <td>0</td>\n",
              "      <td>0</td>\n",
              "      <td>1</td>\n",
              "      <td>1</td>\n",
              "      <td>1</td>\n",
              "      <td>1</td>\n",
              "      <td>0</td>\n",
              "    </tr>\n",
              "  </tbody>\n",
              "</table>\n",
              "</div>"
            ],
            "text/plain": [
              "   cost  application  ...  oversampled_tree  oversampled_forest\n",
              "0    45            0  ...                 0                   0\n",
              "1    36            0  ...                 0                   0\n",
              "2    35            0  ...                 0                   0\n",
              "3    43            0  ...                 0                   0\n",
              "4    60            0  ...                 1                   0\n",
              "\n",
              "[5 rows x 8 columns]"
            ]
          },
          "metadata": {
            "tags": []
          },
          "execution_count": 33
        }
      ]
    },
    {
      "cell_type": "code",
      "metadata": {
        "colab": {
          "base_uri": "https://localhost:8080/"
        },
        "id": "914K0ke8PmhG",
        "outputId": "84e82f08-c104-4ed2-e949-42e57753a868"
      },
      "source": [
        "weighted_tree_ds = evaluation_ds[evaluation_ds.weighted_tree==1]\r\n",
        "weighted_forest_ds = evaluation_ds[evaluation_ds.weighted_forest==1]\r\n",
        "undersampled_tree_ds = evaluation_ds[evaluation_ds.undersampled_tree==1]\r\n",
        "undersampled_forest_ds = evaluation_ds[evaluation_ds.undersampled_forest==1]\r\n",
        "oversampled_tree_ds = evaluation_ds[evaluation_ds.oversampled_tree==1]\r\n",
        "oversampled_forest_ds = evaluation_ds[evaluation_ds.oversampled_forest==1]\r\n",
        "\r\n",
        "original_cost = evaluation_ds.cost.sum()\r\n",
        "original_applications = evaluation_ds.application.sum()\r\n",
        "weighted_tree_cost = weighted_tree_ds.cost.sum()\r\n",
        "weighted_tree_applications = weighted_tree_ds.application.sum()\r\n",
        "weighted_forest_cost = weighted_forest_ds.cost.sum()\r\n",
        "weighted_forest_applications = weighted_forest_ds.application.sum()\r\n",
        "undersampled_tree_cost = undersampled_tree_ds.cost.sum()\r\n",
        "undersampled_tree_applications = undersampled_tree_ds.application.sum()\r\n",
        "undersampled_forest_cost = undersampled_forest_ds.cost.sum()\r\n",
        "undersampled_forest_applications = undersampled_forest_ds.application.sum()\r\n",
        "oversampled_tree_cost = oversampled_tree_ds.cost.sum()\r\n",
        "oversampled_tree_applications = oversampled_tree_ds.application.sum()\r\n",
        "oversampled_forest_cost = oversampled_forest_ds.cost.sum()\r\n",
        "oversampled_forest_applications = oversampled_forest_ds.application.sum()\r\n",
        "\r\n",
        "print('Aggregate Spending:')\r\n",
        "print('==================================================================')\r\n",
        "print('Original spending on sales leads                     : ${:,.2f}'.format(original_cost))\r\n",
        "print('Weighted tree spending on sales leads                : ${:,.2f}'.format(weighted_tree_cost))\r\n",
        "print('Weighted forest spending on sales leads              : ${:,.2f}'.format(weighted_forest_cost))\r\n",
        "print('Undersampled tree spending on sales leads            : ${:,.2f}'.format(undersampled_tree_cost))\r\n",
        "print('Undersampled forest spending on sales leads          : ${:,.2f}'.format(undersampled_forest_cost))\r\n",
        "print('Oversampled tree spending on sales leads             : ${:,.2f}'.format(oversampled_tree_cost))\r\n",
        "print('Oversampled forest spending on sales leads           : ${:,.2f}\\n'.format(oversampled_forest_cost))\r\n",
        "\r\n",
        "print('Unit Spending:')\r\n",
        "print('==================================================================')\r\n",
        "print('Original spending per accepted application           : ${:,.2f}'.format(original_cost/original_applications))\r\n",
        "print('Weighted tree spending per accepted application      : ${:,.2f}'.format(weighted_tree_cost/weighted_tree_applications))\r\n",
        "print('Weighted forest spending per accepted application    : ${:,.2f}'.format(weighted_forest_cost/weighted_forest_applications))\r\n",
        "print('Undersampled tree spending per accepted application  : ${:,.2f}'.format(undersampled_tree_cost/undersampled_tree_applications))\r\n",
        "print('Undersampled forest spending per accepted application: ${:,.2f}'.format(undersampled_forest_cost/undersampled_forest_applications))\r\n",
        "print('Oversampled tree spending per accepted application   : ${:,.2f}'.format(oversampled_tree_cost/oversampled_tree_applications))\r\n",
        "print('Oversampled forest spending per accepted application : ${:,.2f}\\n'.format(oversampled_forest_cost/oversampled_forest_applications))\r\n",
        "\r\n",
        "print('Change from Original in Aggregate Spending:')\r\n",
        "print('==================================================================')\r\n",
        "print('Weighted tree spending on sales leads                : {:,.2f}%'.format((weighted_tree_cost/original_cost-1)*100))\r\n",
        "print('Weighted forest spending on sales leads              : {:,.2f}%'.format((weighted_forest_cost/original_cost-1)*100))\r\n",
        "print('Undersampled tree spending on sales leads            : {:,.2f}%'.format((undersampled_tree_cost/original_cost-1)*100))\r\n",
        "print('Undersampled forest spending on sales leads          : {:,.2f}%'.format((undersampled_forest_cost/original_cost-1)*100))\r\n",
        "print('Oversampled tree spending on sales leads             : {:,.2f}%'.format((oversampled_tree_cost/original_cost-1)*100))\r\n",
        "print('Oversampled forest spending on sales leads           : {:,.2f}%\\n'.format((oversampled_forest_cost/original_cost-1)*100))\r\n",
        "\r\n",
        "print('Change from Original in Unit Spending:')\r\n",
        "print('==================================================================')\r\n",
        "print('Weighted tree spending per accepted application      : {:,.2f}%'.format(((weighted_tree_cost/weighted_tree_applications)/(original_cost/original_applications)-1)*100))\r\n",
        "print('Weighted forest spending per accepted application    : {:,.2f}%'.format(((weighted_forest_cost/weighted_forest_applications)/(original_cost/original_applications)-1)*100))\r\n",
        "print('Undersampled tree spending per accepted application  : {:,.2f}%'.format(((undersampled_tree_cost/undersampled_tree_applications)/(original_cost/original_applications)-1)*100))\r\n",
        "print('Undersampled forest spending per accepted application: {:,.2f}%'.format(((undersampled_forest_cost/undersampled_forest_applications)/(original_cost/original_applications)-1)*100))\r\n",
        "print('Oversampled tree spending per accepted application   : {:,.2f}%'.format(((oversampled_tree_cost/oversampled_tree_applications)/(original_cost/original_applications)-1)*100))\r\n",
        "print('Oversampled forest spending per accepted application : {:,.2f}%'.format(((oversampled_forest_cost/oversampled_forest_applications)/(original_cost/original_applications)-1)*100))"
      ],
      "execution_count": null,
      "outputs": [
        {
          "output_type": "stream",
          "text": [
            "Aggregate Spending:\n",
            "==================================================================\n",
            "Original spending on sales leads                     : $717,901.00\n",
            "Weighted tree spending on sales leads                : $247,206.00\n",
            "Weighted forest spending on sales leads              : $195,151.00\n",
            "Undersampled tree spending on sales leads            : $66,792.00\n",
            "Undersampled forest spending on sales leads          : $59,699.00\n",
            "Oversampled tree spending on sales leads             : $206,677.00\n",
            "Oversampled forest spending on sales leads           : $97,978.00\n",
            "Unit Spending:\n",
            "==================================================================\n",
            "Original spending per application                    : $1,134.12\n",
            "Weighted tree spending per application               : $1,118.58\n",
            "Weighted forest spending per application             : $1,147.95\n",
            "Undersampled tree spending per application           : $1,452.00\n",
            "Undersampled forest spending per application         : $1,218.35\n",
            "Oversampled tree spending per application            : $757.06\n",
            "Oversampled forest spending per application          : $759.52\n",
            "Change from Original in Aggregate Spending:\n",
            "==================================================================\n",
            "Weighted tree spending on sales leads                : -65.57%\n",
            "Weighted forest spending on sales leads              : -72.82%\n",
            "Undersampled tree spending on sales leads            : -90.70%\n",
            "Undersampled forest spending on sales leads          : -91.68%\n",
            "Oversampled tree spending on sales leads             : -71.21%\n",
            "Oversampled forest spending on sales leads           : -86.35%\n",
            "Change from Original in Unit Spending:\n",
            "==================================================================\n",
            "Weighted tree spending per application               : -1.37%\n",
            "Weighted forest spending per application             : 1.22%\n",
            "Undersampled tree spending per application           : 28.03%\n",
            "Undersampled forest spending per application         : 7.43%\n",
            "Oversampled tree spending per application            : -33.25%\n",
            "Oversampled forest spending per application          : -33.03%\n"
          ],
          "name": "stdout"
        }
      ]
    },
    {
      "cell_type": "markdown",
      "metadata": {
        "id": "3X39aoztfsrH"
      },
      "source": [
        "For each of these six models, aggregate spending drops considerably from its original mark. The undersampled models produce the most substantial drop off, reducing aggregate sales lead spending by over 90% in both cases. However, reductions this substantial likely are not viable in that they reduce business volume to a point of infeasibility given that operating costs still exist. The same can be said for the neural forest model built with the oversampled data. The two models built with weighted data, and the neural decision tree built on the oversampled data provide far more reasonable outcomes; none of these methods reduces aggregate costs to less than \\$195,000.  \r\n",
        "\r\n",
        "Though the models built with weighted data and the models built with undersampled data have all reduced aggregate spending by a goodly margin, they have little to no impact on the reduction of spending per application. In fact, only the neural decision tree reduces spending per application as compared to the original, non-targeted method of sales lead acquisition. This reduction is only by 1.37%, though, which is untenably small given the decrease in business volume brought on by the 66% decrease in aggregate spending. \r\n",
        "\r\n",
        "Both of the models built with oversampled data fare appreciably better when it comes to spending per application. They essentially decrease this metric by the same amount - roughly 33%. Given the neural decision tree methodology's ability to decrease spending per application by this much while also maintaining an aggregate spending above \\$200,000 makes this model the clear favorite of the six.  "
      ]
    },
    {
      "cell_type": "code",
      "metadata": {
        "colab": {
          "base_uri": "https://localhost:8080/"
        },
        "id": "0rZLtQkAQirl",
        "outputId": "e8910ecf-3236-439c-aec1-b3512c28389a"
      },
      "source": [
        "original_conversion = evaluation_ds.application.sum()/evaluation_ds.shape[0]*100\r\n",
        "weighted_tree_conversion = weighted_tree_applications/len(evaluation_ds[evaluation_ds.weighted_tree==1])*100\r\n",
        "weighted_forest_conversion = weighted_forest_applications/len(evaluation_ds[evaluation_ds.weighted_forest==1])*100\r\n",
        "undersampled_tree_conversion = undersampled_tree_applications/len(evaluation_ds[evaluation_ds.undersampled_tree==1])*100\r\n",
        "undersampled_forest_conversion = undersampled_forest_applications/len(evaluation_ds[evaluation_ds.undersampled_forest==1])*100\r\n",
        "oversampled_tree_conversion = oversampled_tree_applications/len(evaluation_ds[evaluation_ds.oversampled_tree==1])*100\r\n",
        "oversampled_forest_conversion = oversampled_forest_applications/len(evaluation_ds[evaluation_ds.oversampled_forest==1])*100\r\n",
        "\r\n",
        "\r\n",
        "print('Conversion Rate:')\r\n",
        "print('Original           : {:,.2f}%'.format(original_conversion))\r\n",
        "print('Weighted tree      : {:,.2f}%'.format(weighted_tree_conversion))\r\n",
        "print('Weighted forest    : {:,.2f}%'.format(weighted_forest_conversion))\r\n",
        "print('Undersampled tree  : {:,.2f}%'.format(undersampled_tree_conversion))\r\n",
        "print('Undersampled forest: {:,.2f}%'.format(undersampled_forest_conversion))\r\n",
        "print('Oversampled tree   : {:,.2f}%'.format(oversampled_tree_conversion))\r\n",
        "print('Oversampled forest : {:,.2f}%\\n'.format(oversampled_forest_conversion))\r\n",
        "\r\n",
        "print('Change from Original in Conversion Rate:')\r\n",
        "print('Weighted tree      : {:,.2f}%'.format((weighted_tree_conversion/original_conversion-1)*100))\r\n",
        "print('Weighted forest    : {:,.2f}%'.format((weighted_forest_conversion/original_conversion-1)*100))\r\n",
        "print('Undersampled tree  : {:,.2f}%'.format((undersampled_tree_conversion/original_conversion-1)*100))\r\n",
        "print('Undersampled forest: {:,.2f}%'.format((undersampled_forest_conversion/original_conversion-1)*100))\r\n",
        "print('Oversampled tree   : {:,.2f}%'.format((oversampled_tree_conversion/original_conversion-1)*100))\r\n",
        "print('Oversampled forest : {:,.2f}%\\n'.format((oversampled_forest_conversion/original_conversion-1)*100))"
      ],
      "execution_count": null,
      "outputs": [
        {
          "output_type": "stream",
          "text": [
            "Conversion Rate:\n",
            "Original           : 3.82%\n",
            "Weighted tree      : 3.87%\n",
            "Weighted forest    : 3.77%\n",
            "Undersampled tree  : 2.97%\n",
            "Undersampled forest: 3.52%\n",
            "Oversampled tree   : 7.16%\n",
            "Oversampled forest : 6.87%\n",
            "\n",
            "Change from Original in Conversion Rate:\n",
            "Weighted tree      : 1.48%\n",
            "Weighted forest    : -1.25%\n",
            "Undersampled tree  : -22.12%\n",
            "Undersampled forest: -7.80%\n",
            "Oversampled tree   : 87.58%\n",
            "Oversampled forest : 79.82%\n",
            "\n"
          ],
          "name": "stdout"
        }
      ]
    },
    {
      "cell_type": "markdown",
      "metadata": {
        "id": "F8CNokZ3kwwO"
      },
      "source": [
        "The shifts in conversion rate also bode particularly well for the neural decision tree. For the models built on weighted and undersampled data, the relationship between their conversion rates and the original conversion rate is similar to the spending per application rate. The neural decision tree built on weighted data was the only one of these four models to decrease spending per application, and it is once again the only one of the four models to increase the rate at which targeted leads submit applications. However, this increase is once again minuscule, moving from 3.82% in the original to 3.87% with this model.\r\n",
        "\r\n",
        "As for the models built on oversampled data, their conversion rates increase by 80% for the neural decision forest and 88% for the neural decision tree. Coupled the aforementioned changes in aggregate and unit spending, this shift from a conversion rate of 3.82% to 7.16% for the neural decision tree makes it the obvious choice for use moving forward."
      ]
    }
  ]
}